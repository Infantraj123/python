{
 "cells": [
  {
   "cell_type": "code",
   "execution_count": 1,
   "id": "d3c1cf9c",
   "metadata": {},
   "outputs": [
    {
     "ename": "SyntaxError",
     "evalue": "invalid syntax (3276037.py, line 24)",
     "output_type": "error",
     "traceback": [
      "\u001b[1;36m  File \u001b[1;32m\"C:\\Users\\pg23pca136\\AppData\\Local\\Temp\\ipykernel_8584\\3276037.py\"\u001b[1;36m, line \u001b[1;32m24\u001b[0m\n\u001b[1;33m    print(\"slice of string:\",input_string.[x])\u001b[0m\n\u001b[1;37m                                          ^\u001b[0m\n\u001b[1;31mSyntaxError\u001b[0m\u001b[1;31m:\u001b[0m invalid syntax\n"
     ]
    }
   ],
   "source": [
    "def pro():\n",
    "    while true:\n",
    "        print(\"operation using funtion\")\n",
    "        print(\"1=>print\")\n",
    "        print(\"2=>find length\")\n",
    "        print(\"3=>slice\")\n",
    "        print(\"4=>split\")\n",
    "        print(\"5=>capitalize\")\n",
    "        print(\"6=>count\")\n",
    "        print(\"7=>is alphabet\")\n",
    "        print(\"8=>is digit\")\n",
    "        print(\"9=>into lowercase\")\n",
    "        print(\"10=>replace\")\n",
    "        choice=int(input(\"enter your choice(1-10)\"))\n",
    "        input_string=input(\"enter a string:\")\n",
    "        if choice==1:\n",
    "            print(input_string)\n",
    "        elif choice==2:\n",
    "            print(\"length os the given string\",len(input_string))\n",
    "        elif choice==3:\n",
    "            start=int(input(\"enter start index:\"))\n",
    "            end=int(input(\"enter end index:\"))\n",
    "            x=slice(start,end)\n",
    "            print(\"slice of string:\",input_string.[x])\n",
    "        elif choice==4:\n",
    "            print(\"split string:\",input_string.split())\n",
    "        elif choice==5:\n",
    "            print(\"capitalized string:\",input_string.capitalize())\n",
    "        elif choice==6:\n",
    "            substring=input(\"enter substring to count:\")\n",
    "            print(input_string.count(substring))\n",
    "        elif choice==7:\n",
    "            print(\"is alphabet:\",input_string.isalpha())\n",
    "        elif choice==8:\n",
    "            print(\"is digit:\",input_string.isdigit())\n",
    "        elif choice==9:\n",
    "            print(\"lowercase:\",input_string.lower())\n",
    "        elif choice==10:\n",
    "            old_substring=input(\"enter substring to replace:\")\n",
    "            new_substring=input(\"enter new substring:\")\n",
    "            print(\"after replacement:\",input_string.replace(old_substring,new_substring))\n",
    "        else:\n",
    "            print(\"invalid choice   please enter a number between (1-10)\")\n",
    "        repeat=input(\"do you want to perform another operation?(yes/no)\")\n",
    "        if repeat.lower()!='yes':\n",
    "            break"
   ]
  },
  {
   "cell_type": "code",
   "execution_count": 2,
   "id": "ba8bb347",
   "metadata": {},
   "outputs": [],
   "source": [
    "def pro():\n",
    "    while true:\n",
    "        print(\"operation using funtion\")\n",
    "        print(\"1=>print\")\n",
    "        print(\"2=>find length\")\n",
    "        print(\"3=>slice\")\n",
    "        print(\"4=>split\")\n",
    "        print(\"5=>capitalize\")\n",
    "        print(\"6=>count\")\n",
    "        print(\"7=>is alphabet\")\n",
    "        print(\"8=>is digit\")\n",
    "        print(\"9=>into lowercase\")\n",
    "        print(\"10=>replace\")\n",
    "        choice=int(input(\"enter your choice(1-10)\"))\n",
    "        input_string=input(\"enter a string:\")\n",
    "        if choice==1:\n",
    "            print(input_string)\n",
    "        elif choice==2:\n",
    "            print(\"length os the given string\",len(input_string))\n",
    "        elif choice==3:\n",
    "            start=int(input(\"enter start index:\"))\n",
    "            end=int(input(\"enter end index:\"))\n",
    "            x=slice(start,end)\n",
    "            print(\"slice of string:\",input_string[x])\n",
    "        elif choice==4:\n",
    "            print(\"split string:\",input_string.split())\n",
    "        elif choice==5:\n",
    "            print(\"capitalized string:\",input_string.capitalize())\n",
    "        elif choice==6:\n",
    "            substring=input(\"enter substring to count:\")\n",
    "            print(input_string.count(substring))\n",
    "        elif choice==7:\n",
    "            print(\"is alphabet:\",input_string.isalpha())\n",
    "        elif choice==8:\n",
    "            print(\"is digit:\",input_string.isdigit())\n",
    "        elif choice==9:\n",
    "            print(\"lowercase:\",input_string.lower())\n",
    "        elif choice==10:\n",
    "            old_substring=input(\"enter substring to replace:\")\n",
    "            new_substring=input(\"enter new substring:\")\n",
    "            print(\"after replacement:\",input_string.replace(old_substring,new_substring))\n",
    "        else:\n",
    "            print(\"invalid choice   please enter a number between (1-10)\")\n",
    "        repeat=input(\"do you want to perform another operation?(yes/no)\")\n",
    "        if repeat.lower()!='yes':\n",
    "            break"
   ]
  },
  {
   "cell_type": "code",
   "execution_count": 3,
   "id": "5bbf5c46",
   "metadata": {},
   "outputs": [
    {
     "ename": "NameError",
     "evalue": "name 'true' is not defined",
     "output_type": "error",
     "traceback": [
      "\u001b[1;31m---------------------------------------------------------------------------\u001b[0m",
      "\u001b[1;31mNameError\u001b[0m                                 Traceback (most recent call last)",
      "\u001b[1;32m~\\AppData\\Local\\Temp\\ipykernel_8584\\3934554364.py\u001b[0m in \u001b[0;36m<module>\u001b[1;34m\u001b[0m\n\u001b[1;32m----> 1\u001b[1;33m \u001b[0mpro\u001b[0m\u001b[1;33m(\u001b[0m\u001b[1;33m)\u001b[0m\u001b[1;33m\u001b[0m\u001b[1;33m\u001b[0m\u001b[0m\n\u001b[0m",
      "\u001b[1;32m~\\AppData\\Local\\Temp\\ipykernel_8584\\234197736.py\u001b[0m in \u001b[0;36mpro\u001b[1;34m()\u001b[0m\n\u001b[0;32m      1\u001b[0m \u001b[1;32mdef\u001b[0m \u001b[0mpro\u001b[0m\u001b[1;33m(\u001b[0m\u001b[1;33m)\u001b[0m\u001b[1;33m:\u001b[0m\u001b[1;33m\u001b[0m\u001b[1;33m\u001b[0m\u001b[0m\n\u001b[1;32m----> 2\u001b[1;33m     \u001b[1;32mwhile\u001b[0m \u001b[0mtrue\u001b[0m\u001b[1;33m:\u001b[0m\u001b[1;33m\u001b[0m\u001b[1;33m\u001b[0m\u001b[0m\n\u001b[0m\u001b[0;32m      3\u001b[0m         \u001b[0mprint\u001b[0m\u001b[1;33m(\u001b[0m\u001b[1;34m\"operation using funtion\"\u001b[0m\u001b[1;33m)\u001b[0m\u001b[1;33m\u001b[0m\u001b[1;33m\u001b[0m\u001b[0m\n\u001b[0;32m      4\u001b[0m         \u001b[0mprint\u001b[0m\u001b[1;33m(\u001b[0m\u001b[1;34m\"1=>print\"\u001b[0m\u001b[1;33m)\u001b[0m\u001b[1;33m\u001b[0m\u001b[1;33m\u001b[0m\u001b[0m\n\u001b[0;32m      5\u001b[0m         \u001b[0mprint\u001b[0m\u001b[1;33m(\u001b[0m\u001b[1;34m\"2=>find length\"\u001b[0m\u001b[1;33m)\u001b[0m\u001b[1;33m\u001b[0m\u001b[1;33m\u001b[0m\u001b[0m\n",
      "\u001b[1;31mNameError\u001b[0m: name 'true' is not defined"
     ]
    }
   ],
   "source": [
    "pro()"
   ]
  },
  {
   "cell_type": "code",
   "execution_count": 4,
   "id": "2c40faf3",
   "metadata": {},
   "outputs": [
    {
     "ename": "SyntaxError",
     "evalue": "invalid syntax (2265461131.py, line 24)",
     "output_type": "error",
     "traceback": [
      "\u001b[1;36m  File \u001b[1;32m\"C:\\Users\\pg23pca136\\AppData\\Local\\Temp\\ipykernel_8584\\2265461131.py\"\u001b[1;36m, line \u001b[1;32m24\u001b[0m\n\u001b[1;33m    print(\"slice of string:\",input_string.[x])\u001b[0m\n\u001b[1;37m                                          ^\u001b[0m\n\u001b[1;31mSyntaxError\u001b[0m\u001b[1;31m:\u001b[0m invalid syntax\n"
     ]
    }
   ],
   "source": [
    "def pro():\n",
    "    while True:\n",
    "        print(\"operation using funtion\")\n",
    "        print(\"1=>print\")\n",
    "        print(\"2=>find length\")\n",
    "        print(\"3=>slice\")\n",
    "        print(\"4=>split\")\n",
    "        print(\"5=>capitalize\")\n",
    "        print(\"6=>count\")\n",
    "        print(\"7=>is alphabet\")\n",
    "        print(\"8=>is digit\")\n",
    "        print(\"9=>into lowercase\")\n",
    "        print(\"10=>replace\")\n",
    "        choice=int(input(\"enter your choice(1-10)\"))\n",
    "        input_string=input(\"enter a string:\")\n",
    "        if choice==1:\n",
    "            print(input_string)\n",
    "        elif choice==2:\n",
    "            print(\"length os the given string\",len(input_string))\n",
    "        elif choice==3:\n",
    "            start=int(input(\"enter start index:\"))\n",
    "            end=int(input(\"enter end index:\"))\n",
    "            x=slice(start,end)\n",
    "            print(\"slice of string:\",input_string.[x])\n",
    "        elif choice==4:\n",
    "            print(\"split string:\",input_string.split())\n",
    "        elif choice==5:\n",
    "            print(\"capitalized string:\",input_string.capitalize())\n",
    "        elif choice==6:\n",
    "            substring=input(\"enter substring to count:\")\n",
    "            print(input_string.count(substring))\n",
    "        elif choice==7:\n",
    "            print(\"is alphabet:\",input_string.isalpha())\n",
    "        elif choice==8:\n",
    "            print(\"is digit:\",input_string.isdigit())\n",
    "        elif choice==9:\n",
    "            print(\"lowercase:\",input_string.lower())\n",
    "        elif choice==10:\n",
    "            old_substring=input(\"enter substring to replace:\")\n",
    "            new_substring=input(\"enter new substring:\")\n",
    "            print(\"after replacement:\",input_string.replace(old_substring,new_substring))\n",
    "        else:\n",
    "            print(\"invalid choice   please enter a number between (1-10)\")\n",
    "        repeat=input(\"do you want to perform another operation?(yes/no)\")\n",
    "        if repeat.lower()!='yes':\n",
    "            break"
   ]
  },
  {
   "cell_type": "code",
   "execution_count": 5,
   "id": "2a5f3ae2",
   "metadata": {},
   "outputs": [],
   "source": [
    "def pro():\n",
    "    while true:\n",
    "        print(\"operation using funtion\")\n",
    "        print(\"1=>print\")\n",
    "        print(\"2=>find length\")\n",
    "        print(\"3=>slice\")\n",
    "        print(\"4=>split\")\n",
    "        print(\"5=>capitalize\")\n",
    "        print(\"6=>count\")\n",
    "        print(\"7=>is alphabet\")\n",
    "        print(\"8=>is digit\")\n",
    "        print(\"9=>into lowercase\")\n",
    "        print(\"10=>replace\")\n",
    "        choice=int(input(\"enter your choice(1-10)\"))\n",
    "        input_string=input(\"enter a string:\")\n",
    "        if choice==1:\n",
    "            print(input_string)\n",
    "        elif choice==2:\n",
    "            print(\"length os the given string\",len(input_string))\n",
    "        elif choice==3:\n",
    "            start=int(input(\"enter start index:\"))\n",
    "            end=int(input(\"enter end index:\"))\n",
    "            x=slice(start,end)\n",
    "            print(\"slice of string:\",input_string[x])\n",
    "        elif choice==4:\n",
    "            print(\"split string:\",input_string.split())\n",
    "        elif choice==5:\n",
    "            print(\"capitalized string:\",input_string.capitalize())\n",
    "        elif choice==6:\n",
    "            substring=input(\"enter substring to count:\")\n",
    "            print(input_string.count(substring))\n",
    "        elif choice==7:\n",
    "            print(\"is alphabet:\",input_string.isalpha())\n",
    "        elif choice==8:\n",
    "            print(\"is digit:\",input_string.isdigit())\n",
    "        elif choice==9:\n",
    "            print(\"lowercase:\",input_string.lower())\n",
    "        elif choice==10:\n",
    "            old_substring=input(\"enter substring to replace:\")\n",
    "            new_substring=input(\"enter new substring:\")\n",
    "            print(\"after replacement:\",input_string.replace(old_substring,new_substring))\n",
    "        else:\n",
    "            print(\"invalid choice   please enter a number between (1-10)\")\n",
    "        repeat=input(\"do you want to perform another operation?(yes/no)\")\n",
    "        if repeat.lower()!='yes':\n",
    "            break"
   ]
  },
  {
   "cell_type": "code",
   "execution_count": 6,
   "id": "5f48967c",
   "metadata": {},
   "outputs": [
    {
     "ename": "NameError",
     "evalue": "name 'true' is not defined",
     "output_type": "error",
     "traceback": [
      "\u001b[1;31m---------------------------------------------------------------------------\u001b[0m",
      "\u001b[1;31mNameError\u001b[0m                                 Traceback (most recent call last)",
      "\u001b[1;32m~\\AppData\\Local\\Temp\\ipykernel_8584\\3934554364.py\u001b[0m in \u001b[0;36m<module>\u001b[1;34m\u001b[0m\n\u001b[1;32m----> 1\u001b[1;33m \u001b[0mpro\u001b[0m\u001b[1;33m(\u001b[0m\u001b[1;33m)\u001b[0m\u001b[1;33m\u001b[0m\u001b[1;33m\u001b[0m\u001b[0m\n\u001b[0m",
      "\u001b[1;32m~\\AppData\\Local\\Temp\\ipykernel_8584\\234197736.py\u001b[0m in \u001b[0;36mpro\u001b[1;34m()\u001b[0m\n\u001b[0;32m      1\u001b[0m \u001b[1;32mdef\u001b[0m \u001b[0mpro\u001b[0m\u001b[1;33m(\u001b[0m\u001b[1;33m)\u001b[0m\u001b[1;33m:\u001b[0m\u001b[1;33m\u001b[0m\u001b[1;33m\u001b[0m\u001b[0m\n\u001b[1;32m----> 2\u001b[1;33m     \u001b[1;32mwhile\u001b[0m \u001b[0mtrue\u001b[0m\u001b[1;33m:\u001b[0m\u001b[1;33m\u001b[0m\u001b[1;33m\u001b[0m\u001b[0m\n\u001b[0m\u001b[0;32m      3\u001b[0m         \u001b[0mprint\u001b[0m\u001b[1;33m(\u001b[0m\u001b[1;34m\"operation using funtion\"\u001b[0m\u001b[1;33m)\u001b[0m\u001b[1;33m\u001b[0m\u001b[1;33m\u001b[0m\u001b[0m\n\u001b[0;32m      4\u001b[0m         \u001b[0mprint\u001b[0m\u001b[1;33m(\u001b[0m\u001b[1;34m\"1=>print\"\u001b[0m\u001b[1;33m)\u001b[0m\u001b[1;33m\u001b[0m\u001b[1;33m\u001b[0m\u001b[0m\n\u001b[0;32m      5\u001b[0m         \u001b[0mprint\u001b[0m\u001b[1;33m(\u001b[0m\u001b[1;34m\"2=>find length\"\u001b[0m\u001b[1;33m)\u001b[0m\u001b[1;33m\u001b[0m\u001b[1;33m\u001b[0m\u001b[0m\n",
      "\u001b[1;31mNameError\u001b[0m: name 'true' is not defined"
     ]
    }
   ],
   "source": [
    "pro()"
   ]
  },
  {
   "cell_type": "code",
   "execution_count": 7,
   "id": "d2f09f8f",
   "metadata": {},
   "outputs": [],
   "source": [
    "def pro():\n",
    "    while True:\n",
    "        print(\"operation using funtion\")\n",
    "        print(\"1=>print\")\n",
    "        print(\"2=>find length\")\n",
    "        print(\"3=>slice\")\n",
    "        print(\"4=>split\")\n",
    "        print(\"5=>capitalize\")\n",
    "        print(\"6=>count\")\n",
    "        print(\"7=>is alphabet\")\n",
    "        print(\"8=>is digit\")\n",
    "        print(\"9=>into lowercase\")\n",
    "        print(\"10=>replace\")\n",
    "        choice=int(input(\"enter your choice(1-10)\"))\n",
    "        input_string=input(\"enter a string:\")\n",
    "        if choice==1:\n",
    "            print(input_string)\n",
    "        elif choice==2:\n",
    "            print(\"length os the given string\",len(input_string))\n",
    "        elif choice==3:\n",
    "            start=int(input(\"enter start index:\"))\n",
    "            end=int(input(\"enter end index:\"))\n",
    "            x=slice(start,end)\n",
    "            print(\"slice of string:\",input_string[x])\n",
    "        elif choice==4:\n",
    "            print(\"split string:\",input_string.split())\n",
    "        elif choice==5:\n",
    "            print(\"capitalized string:\",input_string.capitalize())\n",
    "        elif choice==6:\n",
    "            substring=input(\"enter substring to count:\")\n",
    "            print(input_string.count(substring))\n",
    "        elif choice==7:\n",
    "            print(\"is alphabet:\",input_string.isalpha())\n",
    "        elif choice==8:\n",
    "            print(\"is digit:\",input_string.isdigit())\n",
    "        elif choice==9:\n",
    "            print(\"lowercase:\",input_string.lower())\n",
    "        elif choice==10:\n",
    "            old_substring=input(\"enter substring to replace:\")\n",
    "            new_substring=input(\"enter new substring:\")\n",
    "            print(\"after replacement:\",input_string.replace(old_substring,new_substring))\n",
    "        else:\n",
    "            print(\"invalid choice   please enter a number between (1-10)\")\n",
    "        repeat=input(\"do you want to perform another operation?(yes/no)\")\n",
    "        if repeat.lower()!='yes':\n",
    "            break"
   ]
  },
  {
   "cell_type": "code",
   "execution_count": 8,
   "id": "9dab40fa",
   "metadata": {},
   "outputs": [
    {
     "name": "stdout",
     "output_type": "stream",
     "text": [
      "operation using funtion\n",
      "1=>print\n",
      "2=>find length\n",
      "3=>slice\n",
      "4=>split\n",
      "5=>capitalize\n",
      "6=>count\n",
      "7=>is alphabet\n",
      "8=>is digit\n",
      "9=>into lowercase\n",
      "10=>replace\n",
      "enter your choice(1-10)1\n",
      "enter a string:infant\n",
      "infant\n",
      "do you want to perform another operation?(yes/no)yes\n",
      "operation using funtion\n",
      "1=>print\n",
      "2=>find length\n",
      "3=>slice\n",
      "4=>split\n",
      "5=>capitalize\n",
      "6=>count\n",
      "7=>is alphabet\n",
      "8=>is digit\n",
      "9=>into lowercase\n",
      "10=>replace\n",
      "enter your choice(1-10)2\n",
      "enter a string:infant\n",
      "length os the given string 6\n",
      "do you want to perform another operation?(yes/no)yes\n",
      "operation using funtion\n",
      "1=>print\n",
      "2=>find length\n",
      "3=>slice\n",
      "4=>split\n",
      "5=>capitalize\n",
      "6=>count\n",
      "7=>is alphabet\n",
      "8=>is digit\n",
      "9=>into lowercase\n",
      "10=>replace\n",
      "enter your choice(1-10)3\n",
      "enter a string:infantraj\n",
      "enter start index:0\n",
      "enter end index:7\n",
      "slice of string: infantr\n",
      "do you want to perform another operation?(yes/no)yes\n",
      "operation using funtion\n",
      "1=>print\n",
      "2=>find length\n",
      "3=>slice\n",
      "4=>split\n",
      "5=>capitalize\n",
      "6=>count\n",
      "7=>is alphabet\n",
      "8=>is digit\n",
      "9=>into lowercase\n",
      "10=>replace\n",
      "enter your choice(1-10)4\n",
      "enter a string:st josephs college\n",
      "split string: ['st', 'josephs', 'college']\n",
      "do you want to perform another operation?(yes/no)yes\n",
      "operation using funtion\n",
      "1=>print\n",
      "2=>find length\n",
      "3=>slice\n",
      "4=>split\n",
      "5=>capitalize\n",
      "6=>count\n",
      "7=>is alphabet\n",
      "8=>is digit\n",
      "9=>into lowercase\n",
      "10=>replace\n",
      "enter your choice(1-10)5\n",
      "enter a string:st josephs college\n",
      "capitalized string: St josephs college\n",
      "do you want to perform another operation?(yes/no)yes\n",
      "operation using funtion\n",
      "1=>print\n",
      "2=>find length\n",
      "3=>slice\n",
      "4=>split\n",
      "5=>capitalize\n",
      "6=>count\n",
      "7=>is alphabet\n",
      "8=>is digit\n",
      "9=>into lowercase\n",
      "10=>replace\n",
      "enter your choice(1-10)6\n",
      "enter a string:wewewewewewewe\n",
      "enter substring to count:w\n",
      "7\n",
      "do you want to perform another operation?(yes/no)yes\n",
      "operation using funtion\n",
      "1=>print\n",
      "2=>find length\n",
      "3=>slice\n",
      "4=>split\n",
      "5=>capitalize\n",
      "6=>count\n",
      "7=>is alphabet\n",
      "8=>is digit\n",
      "9=>into lowercase\n",
      "10=>replace\n",
      "enter your choice(1-10)7\n",
      "enter a string:545\n",
      "is alphabet: False\n",
      "do you want to perform another operation?(yes/no)yes\n",
      "operation using funtion\n",
      "1=>print\n",
      "2=>find length\n",
      "3=>slice\n",
      "4=>split\n",
      "5=>capitalize\n",
      "6=>count\n",
      "7=>is alphabet\n",
      "8=>is digit\n",
      "9=>into lowercase\n",
      "10=>replace\n",
      "enter your choice(1-10)8\n",
      "enter a string:infant\n",
      "is digit: False\n",
      "do you want to perform another operation?(yes/no)yes\n",
      "operation using funtion\n",
      "1=>print\n",
      "2=>find length\n",
      "3=>slice\n",
      "4=>split\n",
      "5=>capitalize\n",
      "6=>count\n",
      "7=>is alphabet\n",
      "8=>is digit\n",
      "9=>into lowercase\n",
      "10=>replace\n",
      "enter your choice(1-10)9\n",
      "enter a string:VANAKAM\n",
      "lowercase: vanakam\n",
      "do you want to perform another operation?(yes/no)yes\n",
      "operation using funtion\n",
      "1=>print\n",
      "2=>find length\n",
      "3=>slice\n",
      "4=>split\n",
      "5=>capitalize\n",
      "6=>count\n",
      "7=>is alphabet\n",
      "8=>is digit\n",
      "9=>into lowercase\n",
      "10=>replace\n",
      "enter your choice(1-10)10\n",
      "enter a string:i am going to college\n",
      "enter substring to replace:college\n",
      "enter new substring:hostel\n",
      "after replacement: i am going to hostel\n",
      "do you want to perform another operation?(yes/no)no\n"
     ]
    }
   ],
   "source": [
    "pro()"
   ]
  },
  {
   "cell_type": "code",
   "execution_count": 9,
   "id": "d045a746",
   "metadata": {},
   "outputs": [
    {
     "name": "stdout",
     "output_type": "stream",
     "text": [
      "operation using funtion\n",
      "1=>print\n",
      "2=>find length\n",
      "3=>slice\n",
      "4=>split\n",
      "5=>capitalize\n",
      "6=>count\n",
      "7=>is alphabet\n",
      "8=>is digit\n",
      "9=>into lowercase\n",
      "10=>replace\n",
      "enter your choice(1-10)1\n",
      "enter a string:infant\n",
      "infant\n",
      "do you want to perform another operation?(yes/no)b\n"
     ]
    }
   ],
   "source": [
    "pro()"
   ]
  },
  {
   "cell_type": "code",
   "execution_count": 10,
   "id": "2bcbc4b9",
   "metadata": {},
   "outputs": [
    {
     "name": "stdout",
     "output_type": "stream",
     "text": [
      "10\n",
      "<class 'int'>\n"
     ]
    }
   ],
   "source": [
    "a=10\n",
    "print(a)\n",
    "print(type(a))"
   ]
  },
  {
   "cell_type": "code",
   "execution_count": 11,
   "id": "6634a4c5",
   "metadata": {},
   "outputs": [
    {
     "name": "stdout",
     "output_type": "stream",
     "text": [
      "78.09\n",
      "<class 'float'>\n"
     ]
    }
   ],
   "source": [
    "b=78.09\n",
    "print(b)\n",
    "print(type(b))"
   ]
  },
  {
   "cell_type": "code",
   "execution_count": 12,
   "id": "85dd3a7b",
   "metadata": {},
   "outputs": [
    {
     "name": "stdout",
     "output_type": "stream",
     "text": [
      "infant <class 'str'>\n"
     ]
    }
   ],
   "source": [
    "c=\"infant\"\n",
    "print(c,type(c))"
   ]
  },
  {
   "cell_type": "code",
   "execution_count": 13,
   "id": "99e91053",
   "metadata": {},
   "outputs": [
    {
     "ename": "TypeError",
     "evalue": "type.__new__() argument 1 must be str, not int",
     "output_type": "error",
     "traceback": [
      "\u001b[1;31m---------------------------------------------------------------------------\u001b[0m",
      "\u001b[1;31mTypeError\u001b[0m                                 Traceback (most recent call last)",
      "\u001b[1;32m~\\AppData\\Local\\Temp\\ipykernel_8584\\3235153126.py\u001b[0m in \u001b[0;36m<module>\u001b[1;34m\u001b[0m\n\u001b[1;32m----> 1\u001b[1;33m \u001b[0mprint\u001b[0m\u001b[1;33m(\u001b[0m\u001b[0ma\u001b[0m\u001b[1;33m,\u001b[0m\u001b[0mb\u001b[0m\u001b[1;33m,\u001b[0m\u001b[0mc\u001b[0m\u001b[1;33m,\u001b[0m\u001b[0mtype\u001b[0m\u001b[1;33m(\u001b[0m\u001b[0ma\u001b[0m\u001b[1;33m,\u001b[0m\u001b[0mb\u001b[0m\u001b[1;33m,\u001b[0m\u001b[0mc\u001b[0m\u001b[1;33m)\u001b[0m\u001b[1;33m)\u001b[0m\u001b[1;33m\u001b[0m\u001b[1;33m\u001b[0m\u001b[0m\n\u001b[0m",
      "\u001b[1;31mTypeError\u001b[0m: type.__new__() argument 1 must be str, not int"
     ]
    }
   ],
   "source": [
    "print(a,b,c,type(a,b,c))"
   ]
  },
  {
   "cell_type": "code",
   "execution_count": 14,
   "id": "0c55189e",
   "metadata": {},
   "outputs": [
    {
     "name": "stdout",
     "output_type": "stream",
     "text": [
      "10 78.09 infant\n"
     ]
    }
   ],
   "source": [
    "print(a,b,c)"
   ]
  },
  {
   "cell_type": "code",
   "execution_count": 15,
   "id": "f5064e01",
   "metadata": {},
   "outputs": [
    {
     "name": "stdout",
     "output_type": "stream",
     "text": [
      "enter a namesolla mudiyathu\n",
      "ur name is\n"
     ]
    }
   ],
   "source": [
    "d=input(\"enter a name\")\n",
    "print(\"ur name is\")"
   ]
  },
  {
   "cell_type": "code",
   "execution_count": 16,
   "id": "b4511ed5",
   "metadata": {},
   "outputs": [
    {
     "name": "stdout",
     "output_type": "stream",
     "text": [
      "ur name is solla mudiyathu\n"
     ]
    }
   ],
   "source": [
    "print(\"ur name is\",d)"
   ]
  },
  {
   "cell_type": "code",
   "execution_count": 17,
   "id": "9efd0bfc",
   "metadata": {},
   "outputs": [
    {
     "name": "stdout",
     "output_type": "stream",
     "text": [
      "['hello', 'vanakam', 2003, 20.03]\n"
     ]
    }
   ],
   "source": [
    "q=[\"hello\",\"vanakam\",2003,20.03]\n",
    "print(q)"
   ]
  },
  {
   "cell_type": "code",
   "execution_count": 18,
   "id": "e3589bcf",
   "metadata": {},
   "outputs": [
    {
     "data": {
      "text/plain": [
       "list[0]"
      ]
     },
     "execution_count": 18,
     "metadata": {},
     "output_type": "execute_result"
    }
   ],
   "source": [
    "list[0]"
   ]
  },
  {
   "cell_type": "code",
   "execution_count": 19,
   "id": "b6f92324",
   "metadata": {},
   "outputs": [
    {
     "data": {
      "text/plain": [
       "'hello'"
      ]
     },
     "execution_count": 19,
     "metadata": {},
     "output_type": "execute_result"
    }
   ],
   "source": [
    "q[0]"
   ]
  },
  {
   "cell_type": "code",
   "execution_count": 20,
   "id": "c28fd81b",
   "metadata": {},
   "outputs": [
    {
     "data": {
      "text/plain": [
       "['hello', 'vanakam']"
      ]
     },
     "execution_count": 20,
     "metadata": {},
     "output_type": "execute_result"
    }
   ],
   "source": [
    "q[0:2]"
   ]
  },
  {
   "cell_type": "code",
   "execution_count": 21,
   "id": "e1caa6b0",
   "metadata": {},
   "outputs": [
    {
     "name": "stdout",
     "output_type": "stream",
     "text": [
      "['we', 'you', [12, 'infant'], 45]\n"
     ]
    }
   ],
   "source": [
    "w=[\"we\",\"you\",[12,\"infant\"],45]\n",
    "print(w)"
   ]
  },
  {
   "cell_type": "code",
   "execution_count": null,
   "id": "4bf9269a",
   "metadata": {},
   "outputs": [],
   "source": []
  }
 ],
 "metadata": {
  "kernelspec": {
   "display_name": "Python 3 (ipykernel)",
   "language": "python",
   "name": "python3"
  },
  "language_info": {
   "codemirror_mode": {
    "name": "ipython",
    "version": 3
   },
   "file_extension": ".py",
   "mimetype": "text/x-python",
   "name": "python",
   "nbconvert_exporter": "python",
   "pygments_lexer": "ipython3",
   "version": "3.9.13"
  }
 },
 "nbformat": 4,
 "nbformat_minor": 5
}
